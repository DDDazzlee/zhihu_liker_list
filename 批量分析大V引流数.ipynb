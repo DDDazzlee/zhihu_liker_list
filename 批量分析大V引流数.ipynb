{
 "cells": [
  {
   "cell_type": "code",
   "execution_count": 2,
   "metadata": {},
   "outputs": [
    {
     "name": "stdout",
     "output_type": "stream",
     "text": [
      "['74540218.csv', 'abcdabcd987.csv', 'arkham_aki.csv', 'darthmia.csv', 'keakon.csv', 'qingshao23.csv', 'techsword.csv', 'wu-ji-ji-5-37.csv', 'yan-wu-mu-8.csv', 'yang-yin-9.csv']\n"
     ]
    }
   ],
   "source": [
    "#运行此分析过程时先将所有爬取的大V粉丝名单csv文件（打开是乱码的那种）及全部点赞名单xlsx复制到下面指定的目录下\n",
    "import pandas as pd\n",
    "import os\n",
    "os.chdir('F:\\\\zhihu_spider\\\\results\\\\excel_result') #指定的目录    os.chdir(): 修改当前路径到指定路径\n",
    "file_chdir = os.getcwd() #获取路径   \n",
    "filecsv_list = []\n",
    "for root,dirs,files in os.walk(file_chdir):\n",
    "    for file in files:\n",
    "        if os.path.splitext(file)[1] == '.csv':\n",
    "            filecsv_list.append(file)\n",
    "print(filecsv_list)"
   ]
  },
  {
   "cell_type": "code",
   "execution_count": 3,
   "metadata": {},
   "outputs": [
    {
     "data": {
      "text/plain": [
       "'F:\\\\zhihu_spider\\\\results\\\\excel_result'"
      ]
     },
     "execution_count": 3,
     "metadata": {},
     "output_type": "execute_result"
    }
   ],
   "source": [
    "os.getcwd()"
   ]
  },
  {
   "cell_type": "code",
   "execution_count": 4,
   "metadata": {},
   "outputs": [],
   "source": [
    "#这一步是批量将爬取的无法直接阅读的csv文件转为excel\n",
    "import pickle\n",
    "import csv\n",
    "import os\n",
    "\n",
    "os.chdir('F:\\\\zhihu_spider\\\\results\\\\excel_result')\n",
    "for i in filecsv_list:\n",
    "    i_ = i[:-4]\n",
    "    datas = 'data_'+ i_\n",
    "    dat = '{}.xlsx'.format(datas)\n",
    "    with open(i, 'rb') as f:\n",
    "       data = pickle.load(f)\n",
    "    name = [] #用户名\n",
    "    url_token = [] #用户名\n",
    "    gender = [] #性别\n",
    "    answer_count = [] #回答问题数\n",
    "    follower_count = [] #粉丝数量\n",
    "    headline = [] #简介\n",
    "\n",
    "    for i in data:\n",
    "        name.append(i) #i就是用户名\n",
    "        url_token.append(data[i][4])\n",
    "        headline.append(data[i][1])\n",
    "        if data[i][0] == 0:  # 这一段代码是将性别从0，1，-1转为直观\n",
    "            gender.append('女')\n",
    "        if data[i][0] == 1:\n",
    "            gender.append('男')\n",
    "        if data[i][0] == -1:\n",
    "            gender.append('未显示')\n",
    "\n",
    "        answer_count.append(data[i][2])\n",
    "        follower_count.append(data[i][3])  \n",
    "    data={'用户名':name,'url_token':url_token,'简介':headline,'性别':gender,'回答问题数':answer_count,'粉丝数':follower_count}\n",
    "    results=pd.DataFrame(data) #存为数据框\n",
    "    results.to_excel(dat, index=False, header=True) #存为excel"
   ]
  },
  {
   "cell_type": "code",
   "execution_count": 5,
   "metadata": {},
   "outputs": [
    {
     "name": "stdout",
     "output_type": "stream",
     "text": [
      "['data_74540218.xlsx', 'data_abcdabcd987.xlsx', 'data_arkham_aki.xlsx', 'data_darthmia.xlsx', 'data_keakon.xlsx', 'data_qingshao23.xlsx', 'data_techsword.xlsx', 'data_wu-ji-ji-5-37.xlsx', 'data_yan-wu-mu-8.xlsx', 'data_yang-yin-9.xlsx', '点赞名单全部.xlsx']\n"
     ]
    }
   ],
   "source": [
    "import glob\n",
    "os.getcwd()\n",
    "excel_list = glob.glob('*.xlsx')#找到文件夹下全部的excel文件，上面那种方法也可以\n",
    "print(excel_list)"
   ]
  },
  {
   "cell_type": "code",
   "execution_count": 6,
   "metadata": {},
   "outputs": [
    {
     "name": "stdout",
     "output_type": "stream",
     "text": [
      "                      引流数\n",
      "data_74540218          45\n",
      "data_abcdabcd987      101\n",
      "data_arkham_aki       121\n",
      "data_darthmia          67\n",
      "data_keakon            80\n",
      "data_qingshao23       101\n",
      "data_techsword         12\n",
      "data_wu-ji-ji-5-37     35\n",
      "data_yan-wu-mu-8      114\n",
      "data_yang-yin-9        76\n",
      "点赞名单全部              21519\n"
     ]
    }
   ],
   "source": [
    "#这种方法也可以，这一步是统计每个大V的粉丝中为这篇文章点赞的人的数量，即大V引流数量\n",
    "import pandas as pd\n",
    "data_all = pd.read_excel('点赞名单全部.xlsx')['url_token']\n",
    "data_all = set(data_all) #转换成字典\n",
    "dictory = {}\n",
    "for i in excel_list:\n",
    "    i_ = i[:-5]\n",
    "    data = i_\n",
    "    dat = '{}'.format(data) #为每一次输出的不同数据取不同名\n",
    "    #print(dat)\n",
    "    dat = set(pd.read_excel(i)['url_token']) \n",
    "    num = len(dat&data_all)\n",
    "    #print(len(dat&data_all))\n",
    "    dictory[data] = num #每次向字典中添加统计结果\n",
    "dic_DataFrame = pd.DataFrame.from_dict(dictory,orient='index',columns=['引流数']) #将字典转换成数据框\n",
    "# dic_DataFrame = dic.reset_index().rename(columns = {'index':'大V的ID'})\n",
    "print(dic_DataFrame)"
   ]
  },
  {
   "cell_type": "code",
   "execution_count": null,
   "metadata": {},
   "outputs": [],
   "source": []
  },
  {
   "cell_type": "code",
   "execution_count": null,
   "metadata": {},
   "outputs": [],
   "source": []
  },
  {
   "cell_type": "code",
   "execution_count": null,
   "metadata": {},
   "outputs": [],
   "source": []
  },
  {
   "cell_type": "code",
   "execution_count": null,
   "metadata": {},
   "outputs": [],
   "source": []
  },
  {
   "cell_type": "code",
   "execution_count": null,
   "metadata": {},
   "outputs": [],
   "source": []
  },
  {
   "cell_type": "code",
   "execution_count": null,
   "metadata": {},
   "outputs": [],
   "source": []
  },
  {
   "cell_type": "code",
   "execution_count": null,
   "metadata": {},
   "outputs": [],
   "source": []
  },
  {
   "cell_type": "code",
   "execution_count": null,
   "metadata": {},
   "outputs": [],
   "source": []
  },
  {
   "cell_type": "code",
   "execution_count": null,
   "metadata": {},
   "outputs": [],
   "source": []
  },
  {
   "cell_type": "code",
   "execution_count": null,
   "metadata": {},
   "outputs": [],
   "source": []
  },
  {
   "cell_type": "code",
   "execution_count": null,
   "metadata": {},
   "outputs": [],
   "source": []
  },
  {
   "cell_type": "code",
   "execution_count": null,
   "metadata": {},
   "outputs": [],
   "source": []
  },
  {
   "cell_type": "code",
   "execution_count": 184,
   "metadata": {},
   "outputs": [
    {
     "name": "stdout",
     "output_type": "stream",
     "text": [
      "  用户ID                用户ID  引流数\n",
      "0    0       data_74540218   45\n",
      "1    1    data_abcdabcd987  101\n",
      "2    2     data_arkham_aki  121\n",
      "3    3       data_darthmia   67\n",
      "4    4         data_keakon   80\n",
      "5    5     data_qingshao23  101\n",
      "6    6      data_techsword   12\n",
      "7    7  data_wu-ji-ji-5-37   35\n",
      "8    8    data_yan-wu-mu-8  114\n",
      "9    9     data_yang-yin-9   76\n"
     ]
    }
   ],
   "source": [
    "#这种方法也可以，慢一点点,因为用的for循环来找相同元素\n",
    "import pandas as pd\n",
    "data_all = pd.read_excel('点赞名单全部.xlsx')['url_token']\n",
    "data_all = list(data_all) #转换成列表\n",
    "dictory = {}\n",
    "for i in excel_list:\n",
    "    i_ = i[:-5]\n",
    "    data = i_\n",
    "    dat = '{}'.format(data) #为每一次输出的不同数据取不同名\n",
    "    dat = list(pd.read_excel(i)['url_token']) \n",
    "    a = [x for x in data_all if x in dat] #判断大V粉丝中为这篇文章点赞的人的数量（同时在两个列表里）\n",
    "    num = (len(a))\n",
    "    dictory[data] = num #每次向字典中添加统计结果\n",
    "dic_DataFrame = pd.DataFrame.from_dict(dictory,orient='index',columns=['引流数']) #将字典转换成数据框\n",
    "dic_DataFrame = dic.reset_index().rename(columns = {'index':'用户ID'})\n",
    "print(dic_DataFrame)"
   ]
  },
  {
   "cell_type": "code",
   "execution_count": null,
   "metadata": {},
   "outputs": [],
   "source": []
  },
  {
   "cell_type": "code",
   "execution_count": null,
   "metadata": {},
   "outputs": [],
   "source": [
    "\n"
   ]
  },
  {
   "cell_type": "code",
   "execution_count": null,
   "metadata": {},
   "outputs": [],
   "source": []
  },
  {
   "cell_type": "code",
   "execution_count": null,
   "metadata": {},
   "outputs": [],
   "source": []
  },
  {
   "cell_type": "code",
   "execution_count": null,
   "metadata": {},
   "outputs": [],
   "source": []
  },
  {
   "cell_type": "code",
   "execution_count": null,
   "metadata": {},
   "outputs": [],
   "source": []
  }
 ],
 "metadata": {
  "kernelspec": {
   "display_name": "Python 3",
   "language": "python",
   "name": "python3"
  },
  "language_info": {
   "codemirror_mode": {
    "name": "ipython",
    "version": 3
   },
   "file_extension": ".py",
   "mimetype": "text/x-python",
   "name": "python",
   "nbconvert_exporter": "python",
   "pygments_lexer": "ipython3",
   "version": "3.6.5"
  }
 },
 "nbformat": 4,
 "nbformat_minor": 2
}
