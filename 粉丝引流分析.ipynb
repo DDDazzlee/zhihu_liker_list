{
 "cells": [
  {
   "cell_type": "code",
   "execution_count": 7,
   "metadata": {},
   "outputs": [],
   "source": [
    "import pandas as pd\n",
    "data = pd.read_excel('点赞名单全部.xlsx')\n",
    "data_1=pd.read_excel('li-sen-da粉丝名单.xlsx')"
   ]
  },
  {
   "cell_type": "code",
   "execution_count": 12,
   "metadata": {},
   "outputs": [
    {
     "name": "stdout",
     "output_type": "stream",
     "text": [
      "<class 'pandas.core.frame.DataFrame'>\n",
      "RangeIndex: 21519 entries, 0 to 21518\n",
      "Data columns (total 6 columns):\n",
      "用户名          21519 non-null object\n",
      "url_token    21519 non-null object\n",
      "简介           17733 non-null object\n",
      "性别           21519 non-null object\n",
      "回答问题数        21519 non-null int64\n",
      "粉丝数          21519 non-null int64\n",
      "dtypes: int64(2), object(4)\n",
      "memory usage: 1008.8+ KB\n"
     ]
    }
   ],
   "source": [
    "data.info()"
   ]
  },
  {
   "cell_type": "code",
   "execution_count": 13,
   "metadata": {},
   "outputs": [
    {
     "name": "stdout",
     "output_type": "stream",
     "text": [
      "<class 'pandas.core.frame.DataFrame'>\n",
      "RangeIndex: 14068 entries, 0 to 14067\n",
      "Data columns (total 6 columns):\n",
      "用户名          14068 non-null object\n",
      "url_token    14068 non-null object\n",
      "简介           8340 non-null object\n",
      "性别           14068 non-null object\n",
      "回答问题数        14068 non-null int64\n",
      "粉丝数          14068 non-null int64\n",
      "dtypes: int64(2), object(4)\n",
      "memory usage: 659.5+ KB\n"
     ]
    }
   ],
   "source": [
    "data_1.info()"
   ]
  },
  {
   "cell_type": "code",
   "execution_count": 10,
   "metadata": {},
   "outputs": [
    {
     "data": {
      "text/html": [
       "<div>\n",
       "<style scoped>\n",
       "    .dataframe tbody tr th:only-of-type {\n",
       "        vertical-align: middle;\n",
       "    }\n",
       "\n",
       "    .dataframe tbody tr th {\n",
       "        vertical-align: top;\n",
       "    }\n",
       "\n",
       "    .dataframe thead th {\n",
       "        text-align: right;\n",
       "    }\n",
       "</style>\n",
       "<table border=\"1\" class=\"dataframe\">\n",
       "  <thead>\n",
       "    <tr style=\"text-align: right;\">\n",
       "      <th></th>\n",
       "      <th>用户名</th>\n",
       "      <th>url_token</th>\n",
       "      <th>简介</th>\n",
       "      <th>性别</th>\n",
       "      <th>回答问题数</th>\n",
       "      <th>粉丝数</th>\n",
       "    </tr>\n",
       "  </thead>\n",
       "  <tbody>\n",
       "    <tr>\n",
       "      <th>0</th>\n",
       "      <td>XIXI的小怪兽</td>\n",
       "      <td>fan-xi-xi-45</td>\n",
       "      <td>等我想到了怎么描述再来描述。</td>\n",
       "      <td>女</td>\n",
       "      <td>5</td>\n",
       "      <td>8</td>\n",
       "    </tr>\n",
       "    <tr>\n",
       "      <th>1</th>\n",
       "      <td>巴扎黑</td>\n",
       "      <td>ba-zha-hei-39</td>\n",
       "      <td>NaN</td>\n",
       "      <td>男</td>\n",
       "      <td>9</td>\n",
       "      <td>10</td>\n",
       "    </tr>\n",
       "    <tr>\n",
       "      <th>2</th>\n",
       "      <td>spetre</td>\n",
       "      <td>spetre</td>\n",
       "      <td>NaN</td>\n",
       "      <td>未显示</td>\n",
       "      <td>0</td>\n",
       "      <td>0</td>\n",
       "    </tr>\n",
       "    <tr>\n",
       "      <th>3</th>\n",
       "      <td>卡牌</td>\n",
       "      <td>qia-pai-82</td>\n",
       "      <td>NaN</td>\n",
       "      <td>未显示</td>\n",
       "      <td>0</td>\n",
       "      <td>0</td>\n",
       "    </tr>\n",
       "    <tr>\n",
       "      <th>4</th>\n",
       "      <td>小不点儿</td>\n",
       "      <td>tian-xia-tai-ping-45-65</td>\n",
       "      <td>学生</td>\n",
       "      <td>未显示</td>\n",
       "      <td>9</td>\n",
       "      <td>30</td>\n",
       "    </tr>\n",
       "  </tbody>\n",
       "</table>\n",
       "</div>"
      ],
      "text/plain": [
       "        用户名                url_token              简介   性别  回答问题数  粉丝数\n",
       "0  XIXI的小怪兽             fan-xi-xi-45  等我想到了怎么描述再来描述。    女      5    8\n",
       "1       巴扎黑            ba-zha-hei-39             NaN    男      9   10\n",
       "2    spetre                   spetre             NaN  未显示      0    0\n",
       "3        卡牌               qia-pai-82             NaN  未显示      0    0\n",
       "4      小不点儿  tian-xia-tai-ping-45-65              学生  未显示      9   30"
      ]
     },
     "execution_count": 10,
     "metadata": {},
     "output_type": "execute_result"
    }
   ],
   "source": [
    "data.head()"
   ]
  },
  {
   "cell_type": "code",
   "execution_count": 11,
   "metadata": {},
   "outputs": [
    {
     "data": {
      "text/html": [
       "<div>\n",
       "<style scoped>\n",
       "    .dataframe tbody tr th:only-of-type {\n",
       "        vertical-align: middle;\n",
       "    }\n",
       "\n",
       "    .dataframe tbody tr th {\n",
       "        vertical-align: top;\n",
       "    }\n",
       "\n",
       "    .dataframe thead th {\n",
       "        text-align: right;\n",
       "    }\n",
       "</style>\n",
       "<table border=\"1\" class=\"dataframe\">\n",
       "  <thead>\n",
       "    <tr style=\"text-align: right;\">\n",
       "      <th></th>\n",
       "      <th>用户名</th>\n",
       "      <th>url_token</th>\n",
       "      <th>简介</th>\n",
       "      <th>性别</th>\n",
       "      <th>回答问题数</th>\n",
       "      <th>粉丝数</th>\n",
       "    </tr>\n",
       "  </thead>\n",
       "  <tbody>\n",
       "    <tr>\n",
       "      <th>0</th>\n",
       "      <td>不快乐肥宅</td>\n",
       "      <td>bu-kuai-le-fei-zhai</td>\n",
       "      <td>只是肥宅这么简单。</td>\n",
       "      <td>女</td>\n",
       "      <td>4</td>\n",
       "      <td>2</td>\n",
       "    </tr>\n",
       "    <tr>\n",
       "      <th>1</th>\n",
       "      <td>二师兄</td>\n",
       "      <td>mobdate</td>\n",
       "      <td>二师兄教你玩进阶</td>\n",
       "      <td>未显示</td>\n",
       "      <td>1</td>\n",
       "      <td>6</td>\n",
       "    </tr>\n",
       "    <tr>\n",
       "      <th>2</th>\n",
       "      <td>锋芒</td>\n",
       "      <td>feng-mang-75-52</td>\n",
       "      <td>流浪诗人</td>\n",
       "      <td>未显示</td>\n",
       "      <td>0</td>\n",
       "      <td>0</td>\n",
       "    </tr>\n",
       "    <tr>\n",
       "      <th>3</th>\n",
       "      <td>Leon</td>\n",
       "      <td>leon-52-88-86</td>\n",
       "      <td>NaN</td>\n",
       "      <td>未显示</td>\n",
       "      <td>0</td>\n",
       "      <td>0</td>\n",
       "    </tr>\n",
       "    <tr>\n",
       "      <th>4</th>\n",
       "      <td>初七</td>\n",
       "      <td>gu-zhen-31</td>\n",
       "      <td>厚积薄发。</td>\n",
       "      <td>男</td>\n",
       "      <td>0</td>\n",
       "      <td>4</td>\n",
       "    </tr>\n",
       "  </tbody>\n",
       "</table>\n",
       "</div>"
      ],
      "text/plain": [
       "     用户名            url_token         简介   性别  回答问题数  粉丝数\n",
       "0  不快乐肥宅  bu-kuai-le-fei-zhai  只是肥宅这么简单。    女      4    2\n",
       "1    二师兄              mobdate   二师兄教你玩进阶  未显示      1    6\n",
       "2     锋芒      feng-mang-75-52       流浪诗人  未显示      0    0\n",
       "3   Leon        leon-52-88-86        NaN  未显示      0    0\n",
       "4     初七           gu-zhen-31      厚积薄发。    男      0    4"
      ]
     },
     "execution_count": 11,
     "metadata": {},
     "output_type": "execute_result"
    }
   ],
   "source": [
    "data_1.head()"
   ]
  },
  {
   "cell_type": "code",
   "execution_count": 29,
   "metadata": {},
   "outputs": [
    {
     "name": "stdout",
     "output_type": "stream",
     "text": [
      "<class 'pandas.core.series.Series'>\n"
     ]
    }
   ],
   "source": [
    "a = data['url_token']\n",
    "a_1 = data_1['url_token']\n",
    "type(a)"
   ]
  },
  {
   "cell_type": "code",
   "execution_count": 37,
   "metadata": {},
   "outputs": [
    {
     "data": {
      "text/plain": [
       "0    bu-kuai-le-fei-zhai\n",
       "1                mobdate\n",
       "2        feng-mang-75-52\n",
       "3          leon-52-88-86\n",
       "4             gu-zhen-31\n",
       "Name: url_token, dtype: object"
      ]
     },
     "execution_count": 37,
     "metadata": {},
     "output_type": "execute_result"
    }
   ],
   "source": [
    "a_1.head()"
   ]
  },
  {
   "cell_type": "code",
   "execution_count": 36,
   "metadata": {},
   "outputs": [
    {
     "name": "stdout",
     "output_type": "stream",
     "text": [
      "{'xia-shi-23-45', 'shui-jue-a-hao-qi-guai', 'du-bian-de-jiu', 'ma-ya-hui-25', 'san-liang-ban', 'jiakelong', 'qing-hui-89', 'bei-ji-xue-34', 'shi-jia-chen-81', 'chen-si-lin-25-81', 'yoyo-lin-23', 'ca-ca-ca-31-28', 'miaomiao0401', 'xu-you-you-love', 'kylecheng-11', 'da-xiao-64-80', 'yang-hong-yu-3-27', 'huang-jing-bo-32', 'lu-yuan-29-33', 'abigail-woo', 'watsoninside', 'cangshuqiu', 'guo-guo-33-53', 'tian-ma-xing-kong-81-61', 'a-liang-liang-mu-ming-yang', 'liu-xp-0', 'fu-bo-42-17', 'chen-mo-ling', 'yang-guang-bu-xiu-11', 'CruelParti', 'xing-a', 'xie-si-lun', 'sun-xian-sheng-17-35', 'chen-zuo-hui', 'bei-tiao-ma-fei-lao-shi-de-xue-sheng', 'yu-dian-43-37', 'zheng-rui-51-20', 'zhang-xiao-65-30', 'kun-fa-de-jia-lan', 's-jaunt', 'summer006', 'li-bin-83-53', 'yige-bu-neng-kai-kou-de-shen-fen', 'annetulip', 'l-styles', 'yi-er-shan-52', 'men-wei-zhang-da-ye-64', 'tian-xia-15-55', 'buli-guan', 'b-d-81', 'ericxu', 'osp-3485', 'chen-yuan-dong-61-62', 'wang-xiao-jian-66-52', 'winsunchen', 'tie-jia-yi-ran-96-20', 'zhang-xiao-mang-43', 'kevinliuzhenyu', 'lan-bai-he-85', 'rain-liu-8', 'cheng-jiang-zhi-guo-zhong', 'wu-guan-42', 'xxxttt-57', 'shi-hua-ge', 'ling-sa-15', 'meng-ku-de-tang-shen', 'linda-lu-14', 'mr-black-43', 'mai-xiao-mi-65', 'andrea-15-89', 'yi-yang-61-45', 'tian-ya-ming-68', 'wei-yong-51', '1204502102', 'wu-xiao-xiao-45-6', 'alan-xue-43', 'zhou-qin-62-99', 'jiangtao-liu-73', 'caipetercai', 'zheng-toby', 'hudson-shi', 'xu-yi-11-12', 'jiang-lan-55-39', 'li-gang-11-30', 'yaowanjun', 'jiang-da-ke-69-74', 'liuest', 'Brotherfat', 'fen-zhong-94', 'chihaku1230', 'wo-shui-39', 'huang-pu-jiang-99', 'vanlu', 'li-xu-53-51', 'vivian-17-52', 'zmyfred', 'ai-ping-ban', 'ndwn', 'huang-li-bin-44', 'sdkfz182', 'jing-shen-mao', 'zhang-wen-yuan-54', 'kuang-mo-luo-zhi-xiang', 'chen-ying-10-19', 'ng-heng-2-80', 'sun-ruo-wen', 'zhang-jing-wei-77-6', 'bu-dai-mai-mao', 'liujerry', 'xia-xia-shu', 'xie-ping-fan', 'cai-zhi-qiao', 'liuqipeng417', 'yuan-zou-10', 'sicy-li', 'wang-hao-16-76', 'ai-mi-5-15', 'zhi-dao-70', 'hyc558', 'cui-hai-han', 'zhang-wei-guang-73-97', 'zhu-fei-44', 'heikeuan', 'derekchen', 'gong-zhang-chi', 'yaoshu-ying', 'dufeilong', 'zining-wang', 'ma-chun-hui-66', 'cheng-xu-sheng-13-19', 'yu-zhe-yi-58', 'wang-da-liang-51-89', 'meng-xiang-gang', 'kirito-74', 'xu-xin-zhe-91', 'tender-97', 'zhao-dong-84-63', 'prog-47', 'kevin-deng-19', 'e_le', 'zhong-shu-xian', 'abirdcfly', 'pv-li', 'zhang-xin-97-72', 'wei-guo-18-43', 'bo-yan-30', 'ether-25', 'zhou-mou-58', 'li-zhen-yi-72', 'han-peixuan', 'gu-du-yue-han', '152-27', 'slqzjh', 'secretxiao-pang', 'fang-xiao-wen-13', 'wherekevin', 'ru-si-83-75', 'ji-yang-jun-27', 'putaozi', 'zhi-zun-6', 'yan-zuo-yu-71', 'li-wei-ping-13-25', 'sabrina-lee-51', 'mu-rong-yang-zi-5', 'pan-le-qi-96', 'shui-shui-zoe', 'freud-43', 'mao-rong-rong-da-mao-wei-ba', 'yu-chen-yang-35', 'li-mu-feng-45', 'feng-shi-34', 'lin-xin-60-36', 'qiaoshen', 'zhu-ping-ping-41', 'wang-zhao-qiang-12', 'yang-kun-83-99', 'phineas', 'jin-zhi-75-54', 'jiang-hai-58-29', 'wucuokeng', 'liu-zhao-yang-14', 'li-si-qi-87-73', 'lin-mu-mu-90-30', 'mao-xiao-yi-80-64', 'zhong-shi-zi-zai-5', 'ai-le-fei-le-23', 'perry-47-83', 'boda', 'renoook', 'leiyuAndrea', 'qi-yi-bing', 'natoukeco', 'fa-tiao-cheng-62', 'ouerbar', 'haozhi-yang-41', 'iyoungleo', 'liang-76-35', 'xiao-xiao-41-62', 'njulxy', 'yu-hui-84', 'Soleil347', 'gu-lu-lu-mao-mi', 'niao-niao-47-47', 'li-run-yu', 'niu-mo-wang-47-11', 'zhang-ya-ya-58-9', 'yang-zi-han-60-50', 'hellolxy', 'summer5un', 'lin-50-52', 'yong-gan-ju-zi', 'louxiaxz', 'dai-sheng-18', 'li-macer', 'xi-gua-fan-zi', 'wang-rui-xiao', 'ysbl', 'chen-xiao-lu-66', 'ming-xin-ling-zhu', 'liu-shu-kun-96', 'lou-kai-xi', 'feng-da-da-60', 'hou-yang-gou-shou', 'CaptainAfro', 'liang-wu-68', 'yurou-zhang', 'feng-ke-xiang-12', 'alaior', 'tuo-mei-wei-ba', 'he-audrey-61', 'lu-xing-ren-63', 'dereks93', 'lin-fan-97-55', 'mao-zi-yu-95', 'li-chen-xi-8407', 'xiao-wei-21', 'qiao-sen-76', 'xu-teng-jiao-53', 'wei-jie-77-96', 'jia-zhuang-da-chang-tui', 'shi-chun-hong-62', 'gu-zhi-wei-70-72', 'mei-han-jia', 'xiao-hai-ming-49', 'luo-rui-2-87', 'liu-shu-chun-41'}\n"
     ]
    }
   ],
   "source": [
    "set1 = set(a)\n",
    "set2 = set(a_1)\n",
    "print(set1 & set2)"
   ]
  },
  {
   "cell_type": "code",
   "execution_count": 35,
   "metadata": {},
   "outputs": [
    {
     "name": "stdout",
     "output_type": "stream",
     "text": [
      "246\n"
     ]
    }
   ],
   "source": [
    "print(len(set1 & set2))"
   ]
  },
  {
   "cell_type": "code",
   "execution_count": null,
   "metadata": {},
   "outputs": [],
   "source": []
  }
 ],
 "metadata": {
  "kernelspec": {
   "display_name": "Python 3",
   "language": "python",
   "name": "python3"
  },
  "language_info": {
   "codemirror_mode": {
    "name": "ipython",
    "version": 3
   },
   "file_extension": ".py",
   "mimetype": "text/x-python",
   "name": "python",
   "nbconvert_exporter": "python",
   "pygments_lexer": "ipython3",
   "version": "3.6.5"
  }
 },
 "nbformat": 4,
 "nbformat_minor": 2
}
